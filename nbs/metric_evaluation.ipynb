{
 "cells": [
  {
   "cell_type": "code",
   "execution_count": 1,
   "id": "a2643535",
   "metadata": {},
   "outputs": [
    {
     "name": "stderr",
     "output_type": "stream",
     "text": [
      "\u001b[1m\u001b[1mINFO    \u001b[0m\u001b[1m\u001b[0m - \u001b[1mThe mmdet config folder already exists. No need to downloaded it. Path : /home/chris/.icevision/mmdetection_configs/mmdetection_configs-2.16.0/configs\u001b[0m | \u001b[36micevision.models.mmdet.download_configs\u001b[0m:\u001b[36mdownload_mmdet_configs\u001b[0m:\u001b[36m17\u001b[0m\n"
     ]
    }
   ],
   "source": [
    "import sys\n",
    "\n",
    "import numpy as np\n",
    "import pandas as pd\n",
    "\n",
    "src_dir = '../src/'\n",
    "if src_dir not in sys.path:\n",
    "    sys.path.append(src_dir)\n",
    "    \n",
    "from data_processing import extract_annotations\n",
    "from metrics import calculate_conf, IoU"
   ]
  },
  {
   "cell_type": "code",
   "execution_count": 2,
   "id": "edc02b4f",
   "metadata": {},
   "outputs": [],
   "source": [
    "DATA_DIR = '../../data'\n",
    "\n",
    "# Load in dataframe and do the standard processing\n",
    "df = pd.read_csv(f'{DATA_DIR}/train.csv')\n",
    "df['annotations'] = df['annotations'].map(eval)\n",
    "df['num_annotations'] = df['annotations'].map(len)\n",
    "\n",
    "# Extract the invidual bounding boxes and their annotation columns\n",
    "dfexp = df.explode('annotations')\n",
    "dfexp = extract_annotations(dfexp)"
   ]
  },
  {
   "cell_type": "code",
   "execution_count": 3,
   "id": "f6c1a029",
   "metadata": {},
   "outputs": [
    {
     "data": {
      "text/html": [
       "<div>\n",
       "<style scoped>\n",
       "    .dataframe tbody tr th:only-of-type {\n",
       "        vertical-align: middle;\n",
       "    }\n",
       "\n",
       "    .dataframe tbody tr th {\n",
       "        vertical-align: top;\n",
       "    }\n",
       "\n",
       "    .dataframe thead th {\n",
       "        text-align: right;\n",
       "    }\n",
       "</style>\n",
       "<table border=\"1\" class=\"dataframe\">\n",
       "  <thead>\n",
       "    <tr style=\"text-align: right;\">\n",
       "      <th></th>\n",
       "      <th>video_id</th>\n",
       "      <th>sequence</th>\n",
       "      <th>video_frame</th>\n",
       "      <th>sequence_frame</th>\n",
       "      <th>image_id</th>\n",
       "      <th>...</th>\n",
       "      <th>annotations_processed</th>\n",
       "      <th>xmin</th>\n",
       "      <th>ymin</th>\n",
       "      <th>bb_width</th>\n",
       "      <th>bb_height</th>\n",
       "    </tr>\n",
       "  </thead>\n",
       "  <tbody>\n",
       "    <tr>\n",
       "      <th>0</th>\n",
       "      <td>0</td>\n",
       "      <td>40258</td>\n",
       "      <td>0</td>\n",
       "      <td>0</td>\n",
       "      <td>0-0</td>\n",
       "      <td>...</td>\n",
       "      <td>{'xmin': -1, 'ymin': -1, 'bb_width': -1, 'bb_height': -1}</td>\n",
       "      <td>-1</td>\n",
       "      <td>-1</td>\n",
       "      <td>-1</td>\n",
       "      <td>-1</td>\n",
       "    </tr>\n",
       "    <tr>\n",
       "      <th>1</th>\n",
       "      <td>0</td>\n",
       "      <td>40258</td>\n",
       "      <td>1</td>\n",
       "      <td>1</td>\n",
       "      <td>0-1</td>\n",
       "      <td>...</td>\n",
       "      <td>{'xmin': -1, 'ymin': -1, 'bb_width': -1, 'bb_height': -1}</td>\n",
       "      <td>-1</td>\n",
       "      <td>-1</td>\n",
       "      <td>-1</td>\n",
       "      <td>-1</td>\n",
       "    </tr>\n",
       "    <tr>\n",
       "      <th>2</th>\n",
       "      <td>0</td>\n",
       "      <td>40258</td>\n",
       "      <td>2</td>\n",
       "      <td>2</td>\n",
       "      <td>0-2</td>\n",
       "      <td>...</td>\n",
       "      <td>{'xmin': -1, 'ymin': -1, 'bb_width': -1, 'bb_height': -1}</td>\n",
       "      <td>-1</td>\n",
       "      <td>-1</td>\n",
       "      <td>-1</td>\n",
       "      <td>-1</td>\n",
       "    </tr>\n",
       "    <tr>\n",
       "      <th>3</th>\n",
       "      <td>0</td>\n",
       "      <td>40258</td>\n",
       "      <td>3</td>\n",
       "      <td>3</td>\n",
       "      <td>0-3</td>\n",
       "      <td>...</td>\n",
       "      <td>{'xmin': -1, 'ymin': -1, 'bb_width': -1, 'bb_height': -1}</td>\n",
       "      <td>-1</td>\n",
       "      <td>-1</td>\n",
       "      <td>-1</td>\n",
       "      <td>-1</td>\n",
       "    </tr>\n",
       "    <tr>\n",
       "      <th>4</th>\n",
       "      <td>0</td>\n",
       "      <td>40258</td>\n",
       "      <td>4</td>\n",
       "      <td>4</td>\n",
       "      <td>0-4</td>\n",
       "      <td>...</td>\n",
       "      <td>{'xmin': -1, 'ymin': -1, 'bb_width': -1, 'bb_height': -1}</td>\n",
       "      <td>-1</td>\n",
       "      <td>-1</td>\n",
       "      <td>-1</td>\n",
       "      <td>-1</td>\n",
       "    </tr>\n",
       "  </tbody>\n",
       "</table>\n",
       "<p>5 rows × 12 columns</p>\n",
       "</div>"
      ],
      "text/plain": [
       "   video_id  sequence  video_frame  sequence_frame image_id  ...  \\\n",
       "0         0     40258            0               0      0-0  ...   \n",
       "1         0     40258            1               1      0-1  ...   \n",
       "2         0     40258            2               2      0-2  ...   \n",
       "3         0     40258            3               3      0-3  ...   \n",
       "4         0     40258            4               4      0-4  ...   \n",
       "\n",
       "                                       annotations_processed  xmin ymin  \\\n",
       "0  {'xmin': -1, 'ymin': -1, 'bb_width': -1, 'bb_height': -1}    -1   -1   \n",
       "1  {'xmin': -1, 'ymin': -1, 'bb_width': -1, 'bb_height': -1}    -1   -1   \n",
       "2  {'xmin': -1, 'ymin': -1, 'bb_width': -1, 'bb_height': -1}    -1   -1   \n",
       "3  {'xmin': -1, 'ymin': -1, 'bb_width': -1, 'bb_height': -1}    -1   -1   \n",
       "4  {'xmin': -1, 'ymin': -1, 'bb_width': -1, 'bb_height': -1}    -1   -1   \n",
       "\n",
       "   bb_width  bb_height  \n",
       "0        -1         -1  \n",
       "1        -1         -1  \n",
       "2        -1         -1  \n",
       "3        -1         -1  \n",
       "4        -1         -1  \n",
       "\n",
       "[5 rows x 12 columns]"
      ]
     },
     "execution_count": 3,
     "metadata": {},
     "output_type": "execute_result"
    }
   ],
   "source": [
    "dfexp.head()"
   ]
  },
  {
   "cell_type": "code",
   "execution_count": 4,
   "id": "aed7cf7a",
   "metadata": {},
   "outputs": [],
   "source": [
    "# def IoU(box1, box2):\n",
    "#     \"\"\" Calculate the IoU of a box pair\n",
    "#     box1: (xmin1, ymin1, width1, height1)\n",
    "#     box2: (xmin2, ymin2, width2, height2)\n",
    "#     \"\"\"\n",
    "#     # Extract params\n",
    "#     xmin1, ymin1, width1, height1 = box1\n",
    "#     xmin2, ymin2, width2, height2 = box2\n",
    "    \n",
    "#     # Compute the x, y maxes\n",
    "#     xmax1 = xmin1 + width1 - 1\n",
    "#     xmax2 = xmin2 + width2 - 1\n",
    "    \n",
    "#     ymax1 = ymin1 + height1 - 1\n",
    "#     ymax2 = ymin2 + height2 - 1\n",
    "    \n",
    "#     xA = min(xmax1, xmax2)\n",
    "#     xB = max(xmin1, xmin2)\n",
    "#     x_overlap = max(xA - xB + 1, 0)\n",
    "    \n",
    "#     yA = min(ymax1, ymax2)\n",
    "#     yB = max(ymin1, ymin2)\n",
    "#     y_overlap = max(yA - yB + 1, 0)\n",
    "    \n",
    "#     intersection = x_overlap * y_overlap\n",
    "    \n",
    "# #     area1 = (xmax1 - xmin1 + 1) * (ymax1 - ymin1 + 1)\n",
    "# #     area2 = (xmax2 - xmin2 + 1) * (ymax2 - ymin2 + 1)\n",
    "\n",
    "#     area1 = width1 * height1\n",
    "#     area2 = width2 * height2\n",
    "    \n",
    "#     union = area1 + area2 - intersection\n",
    "    \n",
    "#     iou = intersection / union\n",
    "    \n",
    "#     return iou"
   ]
  },
  {
   "cell_type": "code",
   "execution_count": 6,
   "id": "cd8c559a",
   "metadata": {},
   "outputs": [
    {
     "name": "stdout",
     "output_type": "stream",
     "text": [
      "CPU times: user 9 µs, sys: 0 ns, total: 9 µs\n",
      "Wall time: 10.7 µs\n"
     ]
    },
    {
     "data": {
      "text/plain": [
       "0.5714285714285714"
      ]
     },
     "execution_count": 6,
     "metadata": {},
     "output_type": "execute_result"
    }
   ],
   "source": [
    "%time IoU((1, 1, 5, 5), (2, 1, 5, 6), mode='xywh')"
   ]
  },
  {
   "cell_type": "code",
   "execution_count": 7,
   "id": "0f21b633",
   "metadata": {},
   "outputs": [
    {
     "name": "stdout",
     "output_type": "stream",
     "text": [
      "CPU times: user 9 µs, sys: 0 ns, total: 9 µs\n",
      "Wall time: 11.4 µs\n"
     ]
    },
    {
     "data": {
      "text/plain": [
       "0.36363636363636365"
      ]
     },
     "execution_count": 7,
     "metadata": {},
     "output_type": "execute_result"
    }
   ],
   "source": [
    "%time IoU((1, 1, 5, 5), (0, 3, 5, 4), mode='xywh')"
   ]
  },
  {
   "cell_type": "code",
   "execution_count": 8,
   "id": "719a7657",
   "metadata": {},
   "outputs": [
    {
     "name": "stdout",
     "output_type": "stream",
     "text": [
      "CPU times: user 9 µs, sys: 0 ns, total: 9 µs\n",
      "Wall time: 11.2 µs\n"
     ]
    },
    {
     "data": {
      "text/plain": [
       "0.0"
      ]
     },
     "execution_count": 8,
     "metadata": {},
     "output_type": "execute_result"
    }
   ],
   "source": [
    "%time IoU((1, 1, 5, 5), (1, 8, 5, 4), mode='xywh')"
   ]
  },
  {
   "cell_type": "code",
   "execution_count": 9,
   "id": "f31b9995",
   "metadata": {},
   "outputs": [
    {
     "name": "stdout",
     "output_type": "stream",
     "text": [
      "CPU times: user 9 µs, sys: 0 ns, total: 9 µs\n",
      "Wall time: 11 µs\n"
     ]
    },
    {
     "data": {
      "text/plain": [
       "0.0"
      ]
     },
     "execution_count": 9,
     "metadata": {},
     "output_type": "execute_result"
    }
   ],
   "source": [
    "%time IoU((8, 1, 5, 5), (1, 8, 5, 4), mode='xywh')"
   ]
  },
  {
   "cell_type": "markdown",
   "id": "243687bc",
   "metadata": {},
   "source": [
    "Try the same thing with xmin, ymin, xmax, ymax"
   ]
  },
  {
   "cell_type": "code",
   "execution_count": 10,
   "id": "e04519db",
   "metadata": {},
   "outputs": [
    {
     "name": "stdout",
     "output_type": "stream",
     "text": [
      "CPU times: user 5 µs, sys: 0 ns, total: 5 µs\n",
      "Wall time: 6.68 µs\n"
     ]
    },
    {
     "data": {
      "text/plain": [
       "0.5714285714285714"
      ]
     },
     "execution_count": 10,
     "metadata": {},
     "output_type": "execute_result"
    }
   ],
   "source": [
    "%time IoU((1, 1, 5, 5), (2, 1, 6, 6), mode='xyxy')"
   ]
  },
  {
   "cell_type": "code",
   "execution_count": 11,
   "id": "56db9366",
   "metadata": {},
   "outputs": [
    {
     "name": "stdout",
     "output_type": "stream",
     "text": [
      "CPU times: user 8 µs, sys: 0 ns, total: 8 µs\n",
      "Wall time: 10.7 µs\n"
     ]
    },
    {
     "data": {
      "text/plain": [
       "0.36363636363636365"
      ]
     },
     "execution_count": 11,
     "metadata": {},
     "output_type": "execute_result"
    }
   ],
   "source": [
    "%time IoU((1, 1, 5, 5), (0, 3, 4, 6), mode='xyxy')"
   ]
  },
  {
   "cell_type": "code",
   "execution_count": 12,
   "id": "679bdd6b",
   "metadata": {},
   "outputs": [],
   "source": [
    "gts = np.array([(1, 1, 5, 5), (8, 1, 5, 5)])\n",
    "preds = np.array([(2, 1, 5, 6), (0, 3, 5, 4), (1, 8, 5, 4), (1, 8, 5, 4)])\n",
    "confs = np.array([0.7, 0.8, 0.5, 0.5])\n",
    "\n",
    "confs_order = np.argsort(confs)[::-1]\n",
    "preds = preds[confs_order]"
   ]
  },
  {
   "cell_type": "code",
   "execution_count": 13,
   "id": "2a8a49a8",
   "metadata": {},
   "outputs": [
    {
     "data": {
      "text/plain": [
       "array([[0, 3, 5, 4],\n",
       "       [2, 1, 5, 6],\n",
       "       [1, 8, 5, 4],\n",
       "       [1, 8, 5, 4]])"
      ]
     },
     "execution_count": 13,
     "metadata": {},
     "output_type": "execute_result"
    }
   ],
   "source": [
    "preds"
   ]
  },
  {
   "cell_type": "markdown",
   "id": "67aed4e4",
   "metadata": {},
   "source": [
    "#### Create IoU matrix"
   ]
  },
  {
   "cell_type": "code",
   "execution_count": 14,
   "id": "78b1c945",
   "metadata": {},
   "outputs": [
    {
     "name": "stdout",
     "output_type": "stream",
     "text": [
      "CPU times: user 116 µs, sys: 2 µs, total: 118 µs\n",
      "Wall time: 121 µs\n"
     ]
    }
   ],
   "source": [
    "%%time\n",
    "\n",
    "main_ioumat = np.zeros((len(gts), len(preds)))\n",
    "\n",
    "for i, gt in enumerate(gts):\n",
    "    for j, pred in enumerate(preds):\n",
    "        main_ioumat[i, j] = IoU(gt, pred, mode='xywh')"
   ]
  },
  {
   "cell_type": "code",
   "execution_count": 15,
   "id": "009460ac",
   "metadata": {},
   "outputs": [
    {
     "data": {
      "text/plain": [
       "array([[    0.36364,     0.57143,           0,           0],\n",
       "       [          0,           0,           0,           0]])"
      ]
     },
     "execution_count": 15,
     "metadata": {},
     "output_type": "execute_result"
    }
   ],
   "source": [
    "main_ioumat"
   ]
  },
  {
   "cell_type": "code",
   "execution_count": 12,
   "id": "8844e7dd",
   "metadata": {},
   "outputs": [
    {
     "name": "stdout",
     "output_type": "stream",
     "text": [
      "CPU times: user 330 µs, sys: 0 ns, total: 330 µs\n",
      "Wall time: 265 µs\n"
     ]
    }
   ],
   "source": [
    "%%time\n",
    "\n",
    "# We'll need this at each threshold\n",
    "preds_set = set([x for x in range(0, len(preds))])\n",
    "\n",
    "tps = 0\n",
    "fps = 0\n",
    "fns = 0\n",
    "\n",
    "for thr in np.arange(0.3, 0.85, 0.05):\n",
    "#     print(thr)\n",
    "\n",
    "    ioumat = main_ioumat.copy()\n",
    "    ioumat[ioumat < thr] = 0\n",
    "    # ioumat\n",
    "\n",
    "    mask = (ioumat != 0)\n",
    "    res = np.where(mask.any(axis=1), mask.argmax(axis=1), -1)\n",
    "\n",
    "    tp_set = set(res[res != -1])\n",
    "\n",
    "    tps += len(tp_set)\n",
    "    fps += len(preds_set - tp_set)\n",
    "    fns += len(res) - len(tp_set)"
   ]
  },
  {
   "cell_type": "code",
   "execution_count": 13,
   "id": "7d7e8146",
   "metadata": {},
   "outputs": [
    {
     "data": {
      "text/plain": [
       "(6, 38, 16)"
      ]
     },
     "execution_count": 13,
     "metadata": {},
     "output_type": "execute_result"
    }
   ],
   "source": [
    "tps, fps, fns"
   ]
  },
  {
   "cell_type": "code",
   "execution_count": 14,
   "id": "2583312a",
   "metadata": {},
   "outputs": [
    {
     "data": {
      "text/plain": [
       "(6, 38, 16)"
      ]
     },
     "execution_count": 14,
     "metadata": {},
     "output_type": "execute_result"
    }
   ],
   "source": [
    "calculate_conf(gts, preds, confs)"
   ]
  },
  {
   "cell_type": "code",
   "execution_count": 15,
   "id": "0ec02bbe",
   "metadata": {},
   "outputs": [
    {
     "name": "stdout",
     "output_type": "stream",
     "text": [
      "CPU times: user 3 µs, sys: 0 ns, total: 3 µs\n",
      "Wall time: 5.48 µs\n"
     ]
    }
   ],
   "source": [
    "%%time\n",
    "\n",
    "precision = tps / (tps + fps)\n",
    "recall = tps / (tps + fns)\n",
    "\n",
    "beta = 2\n",
    "# f2 = (1 + beta**2) * precision * recall / (beta**2 * precision + recall)\n",
    "f2 = 5 * precision * recall / (4 * precision + recall)"
   ]
  },
  {
   "cell_type": "code",
   "execution_count": 16,
   "id": "60520053",
   "metadata": {},
   "outputs": [
    {
     "data": {
      "text/plain": [
       "0.22727272727272724"
      ]
     },
     "execution_count": 16,
     "metadata": {},
     "output_type": "execute_result"
    }
   ],
   "source": [
    "f2"
   ]
  },
  {
   "cell_type": "markdown",
   "id": "e9cb8198",
   "metadata": {},
   "source": [
    "### Load in model and try on test set"
   ]
  },
  {
   "cell_type": "code",
   "execution_count": 17,
   "id": "7233455c",
   "metadata": {},
   "outputs": [],
   "source": [
    "# from icevision.all import *\n",
    "\n",
    "# MODEL_FILE = f'../../models/yolov5_large_p6_lr_1.0e-3_80pct_0.3_samplefrac_1_10_epochs.pth'\n",
    "\n",
    "# model_type = models.ultralytics.yolov5\n",
    "# backbone = model_type.backbones.large_p6\n",
    "\n",
    "# model = model_type.model(backbone=backbone(pretrained=True), \n",
    "#                          num_classes=2,\n",
    "#                          img_size = 832)\n",
    "\n",
    "# state_dict = torch.load(MODEL_FILE, map_location=torch.device('cuda')) \n",
    "\n",
    "# model.load_state_dict(state_dict)\n",
    "\n",
    "# model = model.cuda(0)\n",
    "\n",
    "# test = pd.read_csv('../../data/test.csv')\n",
    "\n",
    "# parser = ReefParser(template_record, f'{DATA_DIR}/train_images', data)\n",
    "# train_records, valid_records = parser.parse(RandomSplitter((0.8, 0.2)))"
   ]
  },
  {
   "cell_type": "markdown",
   "id": "a4226787",
   "metadata": {},
   "source": []
  }
 ],
 "metadata": {
  "kernelspec": {
   "display_name": "Python 3",
   "language": "python",
   "name": "python3"
  },
  "language_info": {
   "codemirror_mode": {
    "name": "ipython",
    "version": 3
   },
   "file_extension": ".py",
   "mimetype": "text/x-python",
   "name": "python",
   "nbconvert_exporter": "python",
   "pygments_lexer": "ipython3",
   "version": "3.8.12"
  }
 },
 "nbformat": 4,
 "nbformat_minor": 5
}
