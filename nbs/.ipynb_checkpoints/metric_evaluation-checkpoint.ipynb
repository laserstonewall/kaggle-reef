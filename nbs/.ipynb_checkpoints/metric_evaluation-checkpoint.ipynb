{
 "cells": [
  {
   "cell_type": "code",
   "execution_count": 13,
   "id": "e44de0a2",
   "metadata": {},
   "outputs": [],
   "source": [
    "import sys\n",
    "\n",
    "import numpy as np\n",
    "import pandas as pd\n",
    "\n",
    "src_dir = '../src/'\n",
    "if src_dir not in sys.path:\n",
    "    sys.path.append(src_dir)\n",
    "    \n",
    "from data_processing import extract_annotations"
   ]
  },
  {
   "cell_type": "code",
   "execution_count": 14,
   "id": "60dc302b",
   "metadata": {},
   "outputs": [],
   "source": [
    "DATA_DIR = '../../data'\n",
    "\n",
    "# Load in dataframe and do the standard processing\n",
    "df = pd.read_csv(f'{DATA_DIR}/train.csv')\n",
    "df['annotations'] = df['annotations'].map(eval)\n",
    "df['num_annotations'] = df['annotations'].map(len)\n",
    "\n",
    "# Extract the invidual bounding boxes and their annotation columns\n",
    "dfexp = df.explode('annotations')\n",
    "dfexp = extract_annotations(dfexp)"
   ]
  },
  {
   "cell_type": "code",
   "execution_count": 15,
   "id": "b967a4cf",
   "metadata": {},
   "outputs": [
    {
     "data": {
      "text/html": [
       "<div>\n",
       "<style scoped>\n",
       "    .dataframe tbody tr th:only-of-type {\n",
       "        vertical-align: middle;\n",
       "    }\n",
       "\n",
       "    .dataframe tbody tr th {\n",
       "        vertical-align: top;\n",
       "    }\n",
       "\n",
       "    .dataframe thead th {\n",
       "        text-align: right;\n",
       "    }\n",
       "</style>\n",
       "<table border=\"1\" class=\"dataframe\">\n",
       "  <thead>\n",
       "    <tr style=\"text-align: right;\">\n",
       "      <th></th>\n",
       "      <th>video_id</th>\n",
       "      <th>sequence</th>\n",
       "      <th>video_frame</th>\n",
       "      <th>sequence_frame</th>\n",
       "      <th>image_id</th>\n",
       "      <th>annotations</th>\n",
       "      <th>num_annotations</th>\n",
       "      <th>annotations_processed</th>\n",
       "      <th>xmin</th>\n",
       "      <th>ymin</th>\n",
       "      <th>bb_width</th>\n",
       "      <th>bb_height</th>\n",
       "    </tr>\n",
       "  </thead>\n",
       "  <tbody>\n",
       "    <tr>\n",
       "      <th>0</th>\n",
       "      <td>0</td>\n",
       "      <td>40258</td>\n",
       "      <td>0</td>\n",
       "      <td>0</td>\n",
       "      <td>0-0</td>\n",
       "      <td>NaN</td>\n",
       "      <td>0</td>\n",
       "      <td>{'xmin': -1, 'ymin': -1, 'bb_width': -1, 'bb_h...</td>\n",
       "      <td>-1</td>\n",
       "      <td>-1</td>\n",
       "      <td>-1</td>\n",
       "      <td>-1</td>\n",
       "    </tr>\n",
       "    <tr>\n",
       "      <th>1</th>\n",
       "      <td>0</td>\n",
       "      <td>40258</td>\n",
       "      <td>1</td>\n",
       "      <td>1</td>\n",
       "      <td>0-1</td>\n",
       "      <td>NaN</td>\n",
       "      <td>0</td>\n",
       "      <td>{'xmin': -1, 'ymin': -1, 'bb_width': -1, 'bb_h...</td>\n",
       "      <td>-1</td>\n",
       "      <td>-1</td>\n",
       "      <td>-1</td>\n",
       "      <td>-1</td>\n",
       "    </tr>\n",
       "    <tr>\n",
       "      <th>2</th>\n",
       "      <td>0</td>\n",
       "      <td>40258</td>\n",
       "      <td>2</td>\n",
       "      <td>2</td>\n",
       "      <td>0-2</td>\n",
       "      <td>NaN</td>\n",
       "      <td>0</td>\n",
       "      <td>{'xmin': -1, 'ymin': -1, 'bb_width': -1, 'bb_h...</td>\n",
       "      <td>-1</td>\n",
       "      <td>-1</td>\n",
       "      <td>-1</td>\n",
       "      <td>-1</td>\n",
       "    </tr>\n",
       "    <tr>\n",
       "      <th>3</th>\n",
       "      <td>0</td>\n",
       "      <td>40258</td>\n",
       "      <td>3</td>\n",
       "      <td>3</td>\n",
       "      <td>0-3</td>\n",
       "      <td>NaN</td>\n",
       "      <td>0</td>\n",
       "      <td>{'xmin': -1, 'ymin': -1, 'bb_width': -1, 'bb_h...</td>\n",
       "      <td>-1</td>\n",
       "      <td>-1</td>\n",
       "      <td>-1</td>\n",
       "      <td>-1</td>\n",
       "    </tr>\n",
       "    <tr>\n",
       "      <th>4</th>\n",
       "      <td>0</td>\n",
       "      <td>40258</td>\n",
       "      <td>4</td>\n",
       "      <td>4</td>\n",
       "      <td>0-4</td>\n",
       "      <td>NaN</td>\n",
       "      <td>0</td>\n",
       "      <td>{'xmin': -1, 'ymin': -1, 'bb_width': -1, 'bb_h...</td>\n",
       "      <td>-1</td>\n",
       "      <td>-1</td>\n",
       "      <td>-1</td>\n",
       "      <td>-1</td>\n",
       "    </tr>\n",
       "  </tbody>\n",
       "</table>\n",
       "</div>"
      ],
      "text/plain": [
       "   video_id  sequence  video_frame  sequence_frame image_id annotations  \\\n",
       "0         0     40258            0               0      0-0         NaN   \n",
       "1         0     40258            1               1      0-1         NaN   \n",
       "2         0     40258            2               2      0-2         NaN   \n",
       "3         0     40258            3               3      0-3         NaN   \n",
       "4         0     40258            4               4      0-4         NaN   \n",
       "\n",
       "   num_annotations                              annotations_processed  xmin  \\\n",
       "0                0  {'xmin': -1, 'ymin': -1, 'bb_width': -1, 'bb_h...    -1   \n",
       "1                0  {'xmin': -1, 'ymin': -1, 'bb_width': -1, 'bb_h...    -1   \n",
       "2                0  {'xmin': -1, 'ymin': -1, 'bb_width': -1, 'bb_h...    -1   \n",
       "3                0  {'xmin': -1, 'ymin': -1, 'bb_width': -1, 'bb_h...    -1   \n",
       "4                0  {'xmin': -1, 'ymin': -1, 'bb_width': -1, 'bb_h...    -1   \n",
       "\n",
       "   ymin  bb_width  bb_height  \n",
       "0    -1        -1         -1  \n",
       "1    -1        -1         -1  \n",
       "2    -1        -1         -1  \n",
       "3    -1        -1         -1  \n",
       "4    -1        -1         -1  "
      ]
     },
     "execution_count": 15,
     "metadata": {},
     "output_type": "execute_result"
    }
   ],
   "source": [
    "dfexp.head()"
   ]
  },
  {
   "cell_type": "code",
   "execution_count": 109,
   "id": "860ba9a5",
   "metadata": {},
   "outputs": [],
   "source": [
    "def IoU(box1, box2):\n",
    "    \"\"\" Calculate the IoU of a box pair\n",
    "    box1: (xmin1, ymin1, width1, height1)\n",
    "    box2: (xmin2, ymin2, width2, height2)\n",
    "    \"\"\"\n",
    "    # Extract params\n",
    "    xmin1, ymin1, width1, height1 = box1\n",
    "    xmin2, ymin2, width2, height2 = box2\n",
    "    \n",
    "    # Compute the x, y maxes\n",
    "    xmax1 = xmin1 + width1 - 1\n",
    "    xmax2 = xmin2 + width2 - 1\n",
    "    \n",
    "    ymax1 = ymin1 + height1 - 1\n",
    "    ymax2 = ymin2 + height2 - 1\n",
    "    \n",
    "    xA = min(xmax1, xmax2)\n",
    "    xB = max(xmin1, xmin2)\n",
    "    x_overlap = max(xA - xB + 1, 0)\n",
    "    \n",
    "    yA = min(ymax1, ymax2)\n",
    "    yB = max(ymin1, ymin2)\n",
    "    y_overlap = max(yA - yB + 1, 0)\n",
    "    \n",
    "    intersection = x_overlap * y_overlap\n",
    "    \n",
    "#     area1 = (xmax1 - xmin1 + 1) * (ymax1 - ymin1 + 1)\n",
    "#     area2 = (xmax2 - xmin2 + 1) * (ymax2 - ymin2 + 1)\n",
    "\n",
    "    area1 = width1 * height1\n",
    "    area2 = width2 * height2\n",
    "    \n",
    "    union = area1 + area2 - intersection\n",
    "    \n",
    "    iou = intersection / union\n",
    "    \n",
    "    return iou"
   ]
  },
  {
   "cell_type": "code",
   "execution_count": 99,
   "id": "0ae3f93d",
   "metadata": {},
   "outputs": [
    {
     "name": "stdout",
     "output_type": "stream",
     "text": [
      "CPU times: user 7 µs, sys: 0 ns, total: 7 µs\n",
      "Wall time: 10 µs\n"
     ]
    },
    {
     "data": {
      "text/plain": [
       "0.5714285714285714"
      ]
     },
     "execution_count": 99,
     "metadata": {},
     "output_type": "execute_result"
    }
   ],
   "source": [
    "%time IoU((1, 1, 5, 5), (2, 1, 5, 6))"
   ]
  },
  {
   "cell_type": "code",
   "execution_count": 100,
   "id": "98053c99",
   "metadata": {},
   "outputs": [
    {
     "name": "stdout",
     "output_type": "stream",
     "text": [
      "CPU times: user 6 µs, sys: 0 ns, total: 6 µs\n",
      "Wall time: 9.78 µs\n"
     ]
    },
    {
     "data": {
      "text/plain": [
       "0.36363636363636365"
      ]
     },
     "execution_count": 100,
     "metadata": {},
     "output_type": "execute_result"
    }
   ],
   "source": [
    "%time IoU((1, 1, 5, 5), (0, 3, 5, 4))"
   ]
  },
  {
   "cell_type": "code",
   "execution_count": 101,
   "id": "c60f3d18",
   "metadata": {},
   "outputs": [
    {
     "name": "stdout",
     "output_type": "stream",
     "text": [
      "CPU times: user 8 µs, sys: 0 ns, total: 8 µs\n",
      "Wall time: 9.54 µs\n"
     ]
    },
    {
     "data": {
      "text/plain": [
       "0.0"
      ]
     },
     "execution_count": 101,
     "metadata": {},
     "output_type": "execute_result"
    }
   ],
   "source": [
    "%time IoU((1, 1, 5, 5), (1, 8, 5, 4))"
   ]
  },
  {
   "cell_type": "code",
   "execution_count": 102,
   "id": "404508a9",
   "metadata": {},
   "outputs": [
    {
     "name": "stdout",
     "output_type": "stream",
     "text": [
      "CPU times: user 6 µs, sys: 1 µs, total: 7 µs\n",
      "Wall time: 9.78 µs\n"
     ]
    },
    {
     "data": {
      "text/plain": [
       "0.0"
      ]
     },
     "execution_count": 102,
     "metadata": {},
     "output_type": "execute_result"
    }
   ],
   "source": [
    "%time IoU((8, 1, 5, 5), (1, 8, 5, 4))"
   ]
  },
  {
   "cell_type": "code",
   "execution_count": 103,
   "id": "c0f99bf5",
   "metadata": {},
   "outputs": [],
   "source": [
    "gts = np.array([(1, 1, 5, 5), (8, 1, 5, 5)])\n",
    "preds = np.array([(2, 1, 5, 6), (0, 3, 5, 4), (1, 8, 5, 4), (1, 8, 5, 4)])\n",
    "confs = np.array([0.7, 0.8, 0.5, 0.5])\n",
    "\n",
    "confs_order = np.argsort(confs)[::-1]\n",
    "preds = preds[confs_order]"
   ]
  },
  {
   "cell_type": "code",
   "execution_count": 104,
   "id": "ada08870",
   "metadata": {},
   "outputs": [
    {
     "data": {
      "text/plain": [
       "array([[0, 3, 5, 4],\n",
       "       [2, 1, 5, 6],\n",
       "       [1, 8, 5, 4],\n",
       "       [1, 8, 5, 4]])"
      ]
     },
     "execution_count": 104,
     "metadata": {},
     "output_type": "execute_result"
    }
   ],
   "source": [
    "preds"
   ]
  },
  {
   "cell_type": "markdown",
   "id": "0e217976",
   "metadata": {},
   "source": [
    "#### Create IoU matrix"
   ]
  },
  {
   "cell_type": "code",
   "execution_count": 135,
   "id": "9a7fa1e3",
   "metadata": {},
   "outputs": [
    {
     "name": "stdout",
     "output_type": "stream",
     "text": [
      "CPU times: user 87 µs, sys: 11 µs, total: 98 µs\n",
      "Wall time: 101 µs\n"
     ]
    }
   ],
   "source": [
    "%%time\n",
    "\n",
    "main_ioumat = np.zeros((len(gts), len(preds)))\n",
    "\n",
    "for i, gt in enumerate(gts):\n",
    "    for j, pred in enumerate(preds):\n",
    "        main_ioumat[i, j] = IoU(gt, pred)"
   ]
  },
  {
   "cell_type": "code",
   "execution_count": 152,
   "id": "43dda926",
   "metadata": {},
   "outputs": [
    {
     "name": "stdout",
     "output_type": "stream",
     "text": [
      "CPU times: user 584 µs, sys: 0 ns, total: 584 µs\n",
      "Wall time: 506 µs\n"
     ]
    }
   ],
   "source": [
    "%%time\n",
    "\n",
    "# We'll need this at each threshold\n",
    "preds_set = set([x for x in range(0, len(preds))])\n",
    "\n",
    "tps = 0\n",
    "fps = 0\n",
    "fns = 0\n",
    "\n",
    "for thr in np.arange(0.3, 0.85, 0.05):\n",
    "#     print(thr)\n",
    "\n",
    "    ioumat = main_ioumat.copy()\n",
    "    ioumat[ioumat < thr] = 0\n",
    "    # ioumat\n",
    "\n",
    "    mask = (ioumat != 0)\n",
    "    res = np.where(mask.any(axis=1), mask.argmax(axis=1), -1)\n",
    "\n",
    "    tp_set = set(res[res != -1])\n",
    "\n",
    "    tps += len(tp_set)\n",
    "    fps += len(preds_set - tp_set)\n",
    "    fns += len(res) - tps"
   ]
  },
  {
   "cell_type": "code",
   "execution_count": 160,
   "id": "334327d1",
   "metadata": {},
   "outputs": [
    {
     "name": "stdout",
     "output_type": "stream",
     "text": [
      "CPU times: user 5 µs, sys: 1 µs, total: 6 µs\n",
      "Wall time: 7.39 µs\n"
     ]
    }
   ],
   "source": [
    "%%time\n",
    "\n",
    "precision = tps / (tps + fps)\n",
    "recall = tps / (tps + fps)\n",
    "\n",
    "beta = 2\n",
    "# f2 = (1 + beta**2) * precision * recall / (beta**2 * precision + recall)\n",
    "f2 = 5 * precision * recall / (4 * precision + recall)"
   ]
  },
  {
   "cell_type": "code",
   "execution_count": 161,
   "id": "9e7e10a9",
   "metadata": {},
   "outputs": [
    {
     "data": {
      "text/plain": [
       "0.13636363636363635"
      ]
     },
     "execution_count": 161,
     "metadata": {},
     "output_type": "execute_result"
    }
   ],
   "source": [
    "f2"
   ]
  },
  {
   "cell_type": "markdown",
   "id": "9a20dc94",
   "metadata": {},
   "source": [
    "### Load in model and try on test set"
   ]
  },
  {
   "cell_type": "code",
   "execution_count": 163,
   "id": "58d603ce",
   "metadata": {},
   "outputs": [
    {
     "name": "stderr",
     "output_type": "stream",
     "text": [
      "\u001b[1m\u001b[1mINFO    \u001b[0m\u001b[1m\u001b[0m - \u001b[1mThe mmdet config folder already exists. No need to downloaded it. Path : /home/chris/.icevision/mmdetection_configs/mmdetection_configs-2.16.0/configs\u001b[0m | \u001b[36micevision.models.mmdet.download_configs\u001b[0m:\u001b[36mdownload_mmdet_configs\u001b[0m:\u001b[36m17\u001b[0m\n"
     ]
    }
   ],
   "source": [
    "from icevision.all import *"
   ]
  },
  {
   "cell_type": "code",
   "execution_count": 166,
   "id": "f4a72386",
   "metadata": {},
   "outputs": [],
   "source": [
    "MODEL_FILE = f'../../models/yolov5_large_p6_lr_1.0e-3_80pct_0.3_samplefrac_1_10_epochs.pth'\n",
    "\n",
    "model_type = models.ultralytics.yolov5\n",
    "backbone = model_type.backbones.large_p6\n",
    "\n",
    "model = model_type.model(backbone=backbone(pretrained=True), \n",
    "                         num_classes=2,\n",
    "                         img_size = 832)\n",
    "\n",
    "state_dict = torch.load(MODEL_FILE, map_location=torch.device('cuda')) \n",
    "\n",
    "model.load_state_dict(state_dict)\n",
    "\n",
    "model = model.cuda(0)"
   ]
  },
  {
   "cell_type": "code",
   "execution_count": null,
   "id": "ee7a36f6",
   "metadata": {},
   "outputs": [],
   "source": [
    "test = pd.read_csv('../../data/test.csv')"
   ]
  },
  {
   "cell_type": "code",
   "execution_count": null,
   "id": "f5b83d9c",
   "metadata": {},
   "outputs": [],
   "source": [
    "parser = ReefParser(template_record, f'{DATA_DIR}/train_images', data)\n",
    "train_records, valid_records = parser.parse(RandomSplitter((0.8, 0.2)))"
   ]
  }
 ],
 "metadata": {
  "kernelspec": {
   "display_name": "Python 3",
   "language": "python",
   "name": "python3"
  },
  "language_info": {
   "codemirror_mode": {
    "name": "ipython",
    "version": 3
   },
   "file_extension": ".py",
   "mimetype": "text/x-python",
   "name": "python",
   "nbconvert_exporter": "python",
   "pygments_lexer": "ipython3",
   "version": "3.8.12"
  }
 },
 "nbformat": 4,
 "nbformat_minor": 5
}
