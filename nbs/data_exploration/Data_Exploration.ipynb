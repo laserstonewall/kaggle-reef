{
 "cells": [
  {
   "cell_type": "code",
   "execution_count": 26,
   "id": "5ae1f39b",
   "metadata": {},
   "outputs": [],
   "source": [
    "import os"
   ]
  },
  {
   "cell_type": "code",
   "execution_count": 1,
   "id": "e695c3fd",
   "metadata": {},
   "outputs": [],
   "source": [
    "import numpy as np\n",
    "import pandas as pd"
   ]
  },
  {
   "cell_type": "code",
   "execution_count": 21,
   "id": "0ca9f32f",
   "metadata": {},
   "outputs": [],
   "source": [
    "from PIL import Image"
   ]
  },
  {
   "cell_type": "markdown",
   "id": "b778064f",
   "metadata": {},
   "source": [
    "### Explore training data"
   ]
  },
  {
   "cell_type": "code",
   "execution_count": 27,
   "id": "e4832bc8",
   "metadata": {},
   "outputs": [],
   "source": [
    "DATA_DIR = '../../../data'"
   ]
  },
  {
   "cell_type": "code",
   "execution_count": 28,
   "id": "7abc6724",
   "metadata": {},
   "outputs": [],
   "source": [
    "df = pd.read_csv(f'{DATA_DIR}/train.csv')\n",
    "\n",
    "# Process the annotations column\n",
    "df['annotations'] = df['annotations'].map(eval)\n",
    "df['num_annotations'] = df['annotations'].map(len)"
   ]
  },
  {
   "cell_type": "code",
   "execution_count": 3,
   "id": "ee97af8c",
   "metadata": {},
   "outputs": [
    {
     "data": {
      "text/plain": [
       "(23501, 7)"
      ]
     },
     "execution_count": 3,
     "metadata": {},
     "output_type": "execute_result"
    }
   ],
   "source": [
    "df.shape"
   ]
  },
  {
   "cell_type": "code",
   "execution_count": 4,
   "id": "2b7cb212",
   "metadata": {},
   "outputs": [
    {
     "data": {
      "text/html": [
       "<div>\n",
       "<style scoped>\n",
       "    .dataframe tbody tr th:only-of-type {\n",
       "        vertical-align: middle;\n",
       "    }\n",
       "\n",
       "    .dataframe tbody tr th {\n",
       "        vertical-align: top;\n",
       "    }\n",
       "\n",
       "    .dataframe thead th {\n",
       "        text-align: right;\n",
       "    }\n",
       "</style>\n",
       "<table border=\"1\" class=\"dataframe\">\n",
       "  <thead>\n",
       "    <tr style=\"text-align: right;\">\n",
       "      <th></th>\n",
       "      <th>video_id</th>\n",
       "      <th>sequence</th>\n",
       "      <th>video_frame</th>\n",
       "      <th>sequence_frame</th>\n",
       "      <th>image_id</th>\n",
       "      <th>annotations</th>\n",
       "      <th>num_annotations</th>\n",
       "    </tr>\n",
       "  </thead>\n",
       "  <tbody>\n",
       "    <tr>\n",
       "      <th>0</th>\n",
       "      <td>0</td>\n",
       "      <td>40258</td>\n",
       "      <td>0</td>\n",
       "      <td>0</td>\n",
       "      <td>0-0</td>\n",
       "      <td>[]</td>\n",
       "      <td>0</td>\n",
       "    </tr>\n",
       "    <tr>\n",
       "      <th>1</th>\n",
       "      <td>0</td>\n",
       "      <td>40258</td>\n",
       "      <td>1</td>\n",
       "      <td>1</td>\n",
       "      <td>0-1</td>\n",
       "      <td>[]</td>\n",
       "      <td>0</td>\n",
       "    </tr>\n",
       "    <tr>\n",
       "      <th>2</th>\n",
       "      <td>0</td>\n",
       "      <td>40258</td>\n",
       "      <td>2</td>\n",
       "      <td>2</td>\n",
       "      <td>0-2</td>\n",
       "      <td>[]</td>\n",
       "      <td>0</td>\n",
       "    </tr>\n",
       "    <tr>\n",
       "      <th>3</th>\n",
       "      <td>0</td>\n",
       "      <td>40258</td>\n",
       "      <td>3</td>\n",
       "      <td>3</td>\n",
       "      <td>0-3</td>\n",
       "      <td>[]</td>\n",
       "      <td>0</td>\n",
       "    </tr>\n",
       "    <tr>\n",
       "      <th>4</th>\n",
       "      <td>0</td>\n",
       "      <td>40258</td>\n",
       "      <td>4</td>\n",
       "      <td>4</td>\n",
       "      <td>0-4</td>\n",
       "      <td>[]</td>\n",
       "      <td>0</td>\n",
       "    </tr>\n",
       "  </tbody>\n",
       "</table>\n",
       "</div>"
      ],
      "text/plain": [
       "   video_id  sequence  video_frame  sequence_frame image_id annotations  \\\n",
       "0         0     40258            0               0      0-0          []   \n",
       "1         0     40258            1               1      0-1          []   \n",
       "2         0     40258            2               2      0-2          []   \n",
       "3         0     40258            3               3      0-3          []   \n",
       "4         0     40258            4               4      0-4          []   \n",
       "\n",
       "   num_annotations  \n",
       "0                0  \n",
       "1                0  \n",
       "2                0  \n",
       "3                0  \n",
       "4                0  "
      ]
     },
     "execution_count": 4,
     "metadata": {},
     "output_type": "execute_result"
    }
   ],
   "source": [
    "df.head()"
   ]
  },
  {
   "cell_type": "markdown",
   "id": "7350b689",
   "metadata": {},
   "source": [
    "One factor we may need to consider, we'll need to do the dataset split carefully. We don't want adjacent frames in the train/test set. Let's take a look at the statistics."
   ]
  },
  {
   "cell_type": "markdown",
   "id": "ede2438b",
   "metadata": {},
   "source": [
    "#### Basic stats on videos, frames, sequences, etc."
   ]
  },
  {
   "cell_type": "code",
   "execution_count": 5,
   "id": "2595c614",
   "metadata": {},
   "outputs": [
    {
     "name": "stdout",
     "output_type": "stream",
     "text": [
      "Unique video ids: [0 1 2]\n"
     ]
    }
   ],
   "source": [
    "print(f\"Unique video ids: {df['video_id'].unique()}\")"
   ]
  },
  {
   "cell_type": "code",
   "execution_count": 6,
   "id": "af402a99",
   "metadata": {},
   "outputs": [
    {
     "name": "stdout",
     "output_type": "stream",
     "text": [
      "Unique sequences: 20\n"
     ]
    }
   ],
   "source": [
    "print(f\"Unique sequences: {df['sequence'].unique().shape[0]}\")"
   ]
  },
  {
   "cell_type": "code",
   "execution_count": 7,
   "id": "3cb197a0",
   "metadata": {},
   "outputs": [
    {
     "data": {
      "text/html": [
       "<div>\n",
       "<style scoped>\n",
       "    .dataframe tbody tr th:only-of-type {\n",
       "        vertical-align: middle;\n",
       "    }\n",
       "\n",
       "    .dataframe tbody tr th {\n",
       "        vertical-align: top;\n",
       "    }\n",
       "\n",
       "    .dataframe thead tr th {\n",
       "        text-align: left;\n",
       "    }\n",
       "\n",
       "    .dataframe thead tr:last-of-type th {\n",
       "        text-align: right;\n",
       "    }\n",
       "</style>\n",
       "<table border=\"1\" class=\"dataframe\">\n",
       "  <thead>\n",
       "    <tr>\n",
       "      <th></th>\n",
       "      <th colspan=\"2\" halign=\"left\">sequence</th>\n",
       "    </tr>\n",
       "    <tr>\n",
       "      <th></th>\n",
       "      <th>nunique</th>\n",
       "      <th>count</th>\n",
       "    </tr>\n",
       "    <tr>\n",
       "      <th>video_id</th>\n",
       "      <th></th>\n",
       "      <th></th>\n",
       "    </tr>\n",
       "  </thead>\n",
       "  <tbody>\n",
       "    <tr>\n",
       "      <th>0</th>\n",
       "      <td>8</td>\n",
       "      <td>6708</td>\n",
       "    </tr>\n",
       "    <tr>\n",
       "      <th>1</th>\n",
       "      <td>8</td>\n",
       "      <td>8232</td>\n",
       "    </tr>\n",
       "    <tr>\n",
       "      <th>2</th>\n",
       "      <td>4</td>\n",
       "      <td>8561</td>\n",
       "    </tr>\n",
       "  </tbody>\n",
       "</table>\n",
       "</div>"
      ],
      "text/plain": [
       "         sequence      \n",
       "          nunique count\n",
       "video_id               \n",
       "0               8  6708\n",
       "1               8  8232\n",
       "2               4  8561"
      ]
     },
     "execution_count": 7,
     "metadata": {},
     "output_type": "execute_result"
    }
   ],
   "source": [
    "df.groupby(['video_id']).agg({'sequence': [pd.Series.nunique, 'count']}).sort_index()"
   ]
  },
  {
   "cell_type": "code",
   "execution_count": 8,
   "id": "ab5a9025",
   "metadata": {},
   "outputs": [
    {
     "data": {
      "text/html": [
       "<div>\n",
       "<style scoped>\n",
       "    .dataframe tbody tr th:only-of-type {\n",
       "        vertical-align: middle;\n",
       "    }\n",
       "\n",
       "    .dataframe tbody tr th {\n",
       "        vertical-align: top;\n",
       "    }\n",
       "\n",
       "    .dataframe thead th {\n",
       "        text-align: right;\n",
       "    }\n",
       "</style>\n",
       "<table border=\"1\" class=\"dataframe\">\n",
       "  <thead>\n",
       "    <tr style=\"text-align: right;\">\n",
       "      <th></th>\n",
       "      <th></th>\n",
       "      <th>sequence</th>\n",
       "    </tr>\n",
       "    <tr>\n",
       "      <th>video_id</th>\n",
       "      <th>sequence</th>\n",
       "      <th></th>\n",
       "    </tr>\n",
       "  </thead>\n",
       "  <tbody>\n",
       "    <tr>\n",
       "      <th rowspan=\"8\" valign=\"top\">0</th>\n",
       "      <th>996</th>\n",
       "      <td>923</td>\n",
       "    </tr>\n",
       "    <tr>\n",
       "      <th>8399</th>\n",
       "      <td>1423</td>\n",
       "    </tr>\n",
       "    <tr>\n",
       "      <th>35305</th>\n",
       "      <td>853</td>\n",
       "    </tr>\n",
       "    <tr>\n",
       "      <th>40258</th>\n",
       "      <td>480</td>\n",
       "    </tr>\n",
       "    <tr>\n",
       "      <th>45015</th>\n",
       "      <td>617</td>\n",
       "    </tr>\n",
       "    <tr>\n",
       "      <th>45518</th>\n",
       "      <td>798</td>\n",
       "    </tr>\n",
       "    <tr>\n",
       "      <th>53708</th>\n",
       "      <td>1077</td>\n",
       "    </tr>\n",
       "    <tr>\n",
       "      <th>59337</th>\n",
       "      <td>537</td>\n",
       "    </tr>\n",
       "    <tr>\n",
       "      <th rowspan=\"8\" valign=\"top\">1</th>\n",
       "      <th>8503</th>\n",
       "      <td>2843</td>\n",
       "    </tr>\n",
       "    <tr>\n",
       "      <th>15827</th>\n",
       "      <td>770</td>\n",
       "    </tr>\n",
       "    <tr>\n",
       "      <th>17665</th>\n",
       "      <td>87</td>\n",
       "    </tr>\n",
       "    <tr>\n",
       "      <th>18048</th>\n",
       "      <td>71</td>\n",
       "    </tr>\n",
       "    <tr>\n",
       "      <th>29424</th>\n",
       "      <td>184</td>\n",
       "    </tr>\n",
       "    <tr>\n",
       "      <th>44160</th>\n",
       "      <td>151</td>\n",
       "    </tr>\n",
       "    <tr>\n",
       "      <th>60510</th>\n",
       "      <td>1167</td>\n",
       "    </tr>\n",
       "    <tr>\n",
       "      <th>60754</th>\n",
       "      <td>2959</td>\n",
       "    </tr>\n",
       "    <tr>\n",
       "      <th rowspan=\"4\" valign=\"top\">2</th>\n",
       "      <th>22643</th>\n",
       "      <td>1248</td>\n",
       "    </tr>\n",
       "    <tr>\n",
       "      <th>26651</th>\n",
       "      <td>1525</td>\n",
       "    </tr>\n",
       "    <tr>\n",
       "      <th>29859</th>\n",
       "      <td>2988</td>\n",
       "    </tr>\n",
       "    <tr>\n",
       "      <th>37114</th>\n",
       "      <td>2800</td>\n",
       "    </tr>\n",
       "  </tbody>\n",
       "</table>\n",
       "</div>"
      ],
      "text/plain": [
       "                   sequence\n",
       "video_id sequence          \n",
       "0        996            923\n",
       "         8399          1423\n",
       "         35305          853\n",
       "         40258          480\n",
       "         45015          617\n",
       "         45518          798\n",
       "         53708         1077\n",
       "         59337          537\n",
       "1        8503          2843\n",
       "         15827          770\n",
       "         17665           87\n",
       "         18048           71\n",
       "         29424          184\n",
       "         44160          151\n",
       "         60510         1167\n",
       "         60754         2959\n",
       "2        22643         1248\n",
       "         26651         1525\n",
       "         29859         2988\n",
       "         37114         2800"
      ]
     },
     "execution_count": 8,
     "metadata": {},
     "output_type": "execute_result"
    }
   ],
   "source": [
    "df.groupby(['video_id','sequence']).agg({'sequence': 'count'}).sort_index()"
   ]
  },
  {
   "cell_type": "code",
   "execution_count": 46,
   "id": "0a68fd83",
   "metadata": {},
   "outputs": [
    {
     "data": {
      "text/plain": [
       "(20, 1)"
      ]
     },
     "execution_count": 46,
     "metadata": {},
     "output_type": "execute_result"
    }
   ],
   "source": [
    "df.groupby(['video_id','sequence']).agg({'sequence': 'count'}).sort_index().shape"
   ]
  },
  {
   "cell_type": "code",
   "execution_count": 20,
   "id": "fb2c7ad9",
   "metadata": {},
   "outputs": [
    {
     "name": "stdout",
     "output_type": "stream",
     "text": [
      "Unique image ids: 23501\n"
     ]
    }
   ],
   "source": [
    "print(f\"Unique image ids: {df['image_id'].unique().shape[0]}\")"
   ]
  },
  {
   "cell_type": "markdown",
   "id": "67320a2e",
   "metadata": {},
   "source": [
    "#### Basic stats on annotations"
   ]
  },
  {
   "cell_type": "code",
   "execution_count": 9,
   "id": "0ce203a8",
   "metadata": {},
   "outputs": [
    {
     "name": "stdout",
     "output_type": "stream",
     "text": [
      "Number empty images: 18582\n",
      "Number non-empty images: 4919\n"
     ]
    }
   ],
   "source": [
    "print(f'Number empty images: {df[df[\"num_annotations\"]==0].shape[0]}')\n",
    "print(f'Number non-empty images: {df[df[\"num_annotations\"]!=0].shape[0]}')"
   ]
  },
  {
   "cell_type": "code",
   "execution_count": 10,
   "id": "1ca3c618",
   "metadata": {},
   "outputs": [
    {
     "data": {
      "text/plain": [
       "0     18582\n",
       "1      2801\n",
       "2       942\n",
       "3       374\n",
       "4       240\n",
       "5       134\n",
       "6        59\n",
       "7        61\n",
       "8        58\n",
       "9        32\n",
       "10       26\n",
       "11       44\n",
       "12       17\n",
       "13       19\n",
       "14       22\n",
       "15       40\n",
       "16       28\n",
       "17       19\n",
       "18        3\n",
       "Name: num_annotations, dtype: int64"
      ]
     },
     "execution_count": 10,
     "metadata": {},
     "output_type": "execute_result"
    }
   ],
   "source": [
    "df['num_annotations'].value_counts().sort_index()"
   ]
  },
  {
   "cell_type": "code",
   "execution_count": 13,
   "id": "d6b39c18",
   "metadata": {},
   "outputs": [
    {
     "data": {
      "text/plain": [
       "23501"
      ]
     },
     "execution_count": 13,
     "metadata": {},
     "output_type": "execute_result"
    }
   ],
   "source": [
    "df['num_annotations'].value_counts().sum()"
   ]
  },
  {
   "cell_type": "code",
   "execution_count": 16,
   "id": "096abea4",
   "metadata": {},
   "outputs": [
    {
     "data": {
      "text/plain": [
       "30480"
      ]
     },
     "execution_count": 16,
     "metadata": {},
     "output_type": "execute_result"
    }
   ],
   "source": [
    "df['num_annotations'].sum() + df[df['num_annotations']==0].shape[0]"
   ]
  },
  {
   "cell_type": "markdown",
   "id": "19119119",
   "metadata": {},
   "source": [
    "So we'll probably want to do some downsampling of negative examples, but this may be a hyper-parameter that we tune. Unrelated, but we may also need to do some downsampling of adjacent video frames."
   ]
  },
  {
   "cell_type": "code",
   "execution_count": 11,
   "id": "760f77f9",
   "metadata": {},
   "outputs": [
    {
     "data": {
      "text/plain": [
       "array([list([{'x': 559, 'y': 213, 'width': 50, 'height': 32}]),\n",
       "       list([{'x': 558, 'y': 213, 'width': 50, 'height': 32}]),\n",
       "       list([{'x': 557, 'y': 213, 'width': 50, 'height': 32}])],\n",
       "      dtype=object)"
      ]
     },
     "execution_count": 11,
     "metadata": {},
     "output_type": "execute_result"
    }
   ],
   "source": [
    "df[df['num_annotations']==1]['annotations'].values[:3]"
   ]
  },
  {
   "cell_type": "code",
   "execution_count": 12,
   "id": "1e0f0624",
   "metadata": {},
   "outputs": [
    {
     "data": {
      "text/plain": [
       "array([list([{'x': 520, 'y': 151, 'width': 78, 'height': 62}, {'x': 598, 'y': 204, 'width': 58, 'height': 32}]),\n",
       "       list([{'x': 520, 'y': 148, 'width': 80, 'height': 63}, {'x': 598, 'y': 206, 'width': 61, 'height': 34}]),\n",
       "       list([{'x': 521, 'y': 144, 'width': 82, 'height': 65}, {'x': 599, 'y': 208, 'width': 64, 'height': 36}])],\n",
       "      dtype=object)"
      ]
     },
     "execution_count": 12,
     "metadata": {},
     "output_type": "execute_result"
    }
   ],
   "source": [
    "df[df['num_annotations']==2]['annotations'].values[:3]"
   ]
  },
  {
   "cell_type": "markdown",
   "id": "32284343",
   "metadata": {},
   "source": [
    "So the annotations for an image are stored as a list of dicts. Cool."
   ]
  },
  {
   "cell_type": "markdown",
   "id": "7cae6d1a",
   "metadata": {},
   "source": [
    "Where do the negative annotations come from? Is it somewhat uniform, or biased towards certain sequences?"
   ]
  },
  {
   "cell_type": "code",
   "execution_count": 42,
   "id": "0017faef",
   "metadata": {},
   "outputs": [],
   "source": [
    "def count_negatives(x):\n",
    "    count = 0\n",
    "    \n",
    "    for element in x:\n",
    "        if element==0:\n",
    "            count += 1\n",
    "            \n",
    "    return count"
   ]
  },
  {
   "cell_type": "code",
   "execution_count": 45,
   "id": "2b28a092",
   "metadata": {},
   "outputs": [
    {
     "data": {
      "text/html": [
       "<div>\n",
       "<style scoped>\n",
       "    .dataframe tbody tr th:only-of-type {\n",
       "        vertical-align: middle;\n",
       "    }\n",
       "\n",
       "    .dataframe tbody tr th {\n",
       "        vertical-align: top;\n",
       "    }\n",
       "\n",
       "    .dataframe thead th {\n",
       "        text-align: right;\n",
       "    }\n",
       "</style>\n",
       "<table border=\"1\" class=\"dataframe\">\n",
       "  <thead>\n",
       "    <tr style=\"text-align: right;\">\n",
       "      <th></th>\n",
       "      <th>images</th>\n",
       "      <th>empty</th>\n",
       "      <th>frac_empty</th>\n",
       "    </tr>\n",
       "    <tr>\n",
       "      <th>video_id</th>\n",
       "      <th></th>\n",
       "      <th></th>\n",
       "      <th></th>\n",
       "    </tr>\n",
       "  </thead>\n",
       "  <tbody>\n",
       "    <tr>\n",
       "      <th>0</th>\n",
       "      <td>6708</td>\n",
       "      <td>4565</td>\n",
       "      <td>0.680531</td>\n",
       "    </tr>\n",
       "    <tr>\n",
       "      <th>1</th>\n",
       "      <td>8232</td>\n",
       "      <td>6133</td>\n",
       "      <td>0.745019</td>\n",
       "    </tr>\n",
       "    <tr>\n",
       "      <th>2</th>\n",
       "      <td>8561</td>\n",
       "      <td>7884</td>\n",
       "      <td>0.920920</td>\n",
       "    </tr>\n",
       "  </tbody>\n",
       "</table>\n",
       "</div>"
      ],
      "text/plain": [
       "          images  empty  frac_empty\n",
       "video_id                           \n",
       "0           6708   4565    0.680531\n",
       "1           8232   6133    0.745019\n",
       "2           8561   7884    0.920920"
      ]
     },
     "execution_count": 45,
     "metadata": {},
     "output_type": "execute_result"
    }
   ],
   "source": [
    "dfg = df.groupby(['video_id']).agg({'sequence': 'count', 'num_annotations': count_negatives}).sort_index()\n",
    "dfg = dfg.rename(columns={'sequence': 'images', 'num_annotations': 'empty'})\n",
    "dfg['frac_empty'] = dfg['empty'] / dfg['images']\n",
    "dfg.sort_index()"
   ]
  },
  {
   "cell_type": "code",
   "execution_count": 44,
   "id": "209954c9",
   "metadata": {},
   "outputs": [
    {
     "data": {
      "text/html": [
       "<div>\n",
       "<style scoped>\n",
       "    .dataframe tbody tr th:only-of-type {\n",
       "        vertical-align: middle;\n",
       "    }\n",
       "\n",
       "    .dataframe tbody tr th {\n",
       "        vertical-align: top;\n",
       "    }\n",
       "\n",
       "    .dataframe thead th {\n",
       "        text-align: right;\n",
       "    }\n",
       "</style>\n",
       "<table border=\"1\" class=\"dataframe\">\n",
       "  <thead>\n",
       "    <tr style=\"text-align: right;\">\n",
       "      <th></th>\n",
       "      <th></th>\n",
       "      <th>images</th>\n",
       "      <th>empty</th>\n",
       "      <th>frac_empty</th>\n",
       "    </tr>\n",
       "    <tr>\n",
       "      <th>video_id</th>\n",
       "      <th>sequence</th>\n",
       "      <th></th>\n",
       "      <th></th>\n",
       "      <th></th>\n",
       "    </tr>\n",
       "  </thead>\n",
       "  <tbody>\n",
       "    <tr>\n",
       "      <th rowspan=\"8\" valign=\"top\">0</th>\n",
       "      <th>996</th>\n",
       "      <td>923</td>\n",
       "      <td>714</td>\n",
       "      <td>0.773564</td>\n",
       "    </tr>\n",
       "    <tr>\n",
       "      <th>8399</th>\n",
       "      <td>1423</td>\n",
       "      <td>859</td>\n",
       "      <td>0.603654</td>\n",
       "    </tr>\n",
       "    <tr>\n",
       "      <th>35305</th>\n",
       "      <td>853</td>\n",
       "      <td>773</td>\n",
       "      <td>0.906213</td>\n",
       "    </tr>\n",
       "    <tr>\n",
       "      <th>40258</th>\n",
       "      <td>480</td>\n",
       "      <td>195</td>\n",
       "      <td>0.406250</td>\n",
       "    </tr>\n",
       "    <tr>\n",
       "      <th>45015</th>\n",
       "      <td>617</td>\n",
       "      <td>595</td>\n",
       "      <td>0.964344</td>\n",
       "    </tr>\n",
       "    <tr>\n",
       "      <th>45518</th>\n",
       "      <td>798</td>\n",
       "      <td>675</td>\n",
       "      <td>0.845865</td>\n",
       "    </tr>\n",
       "    <tr>\n",
       "      <th>53708</th>\n",
       "      <td>1077</td>\n",
       "      <td>373</td>\n",
       "      <td>0.346332</td>\n",
       "    </tr>\n",
       "    <tr>\n",
       "      <th>59337</th>\n",
       "      <td>537</td>\n",
       "      <td>381</td>\n",
       "      <td>0.709497</td>\n",
       "    </tr>\n",
       "    <tr>\n",
       "      <th rowspan=\"8\" valign=\"top\">1</th>\n",
       "      <th>8503</th>\n",
       "      <td>2843</td>\n",
       "      <td>1743</td>\n",
       "      <td>0.613085</td>\n",
       "    </tr>\n",
       "    <tr>\n",
       "      <th>15827</th>\n",
       "      <td>770</td>\n",
       "      <td>696</td>\n",
       "      <td>0.903896</td>\n",
       "    </tr>\n",
       "    <tr>\n",
       "      <th>17665</th>\n",
       "      <td>87</td>\n",
       "      <td>0</td>\n",
       "      <td>0.000000</td>\n",
       "    </tr>\n",
       "    <tr>\n",
       "      <th>18048</th>\n",
       "      <td>71</td>\n",
       "      <td>0</td>\n",
       "      <td>0.000000</td>\n",
       "    </tr>\n",
       "    <tr>\n",
       "      <th>29424</th>\n",
       "      <td>184</td>\n",
       "      <td>184</td>\n",
       "      <td>1.000000</td>\n",
       "    </tr>\n",
       "    <tr>\n",
       "      <th>44160</th>\n",
       "      <td>151</td>\n",
       "      <td>151</td>\n",
       "      <td>1.000000</td>\n",
       "    </tr>\n",
       "    <tr>\n",
       "      <th>60510</th>\n",
       "      <td>1167</td>\n",
       "      <td>1054</td>\n",
       "      <td>0.903171</td>\n",
       "    </tr>\n",
       "    <tr>\n",
       "      <th>60754</th>\n",
       "      <td>2959</td>\n",
       "      <td>2305</td>\n",
       "      <td>0.778979</td>\n",
       "    </tr>\n",
       "    <tr>\n",
       "      <th rowspan=\"4\" valign=\"top\">2</th>\n",
       "      <th>22643</th>\n",
       "      <td>1248</td>\n",
       "      <td>671</td>\n",
       "      <td>0.537660</td>\n",
       "    </tr>\n",
       "    <tr>\n",
       "      <th>26651</th>\n",
       "      <td>1525</td>\n",
       "      <td>1496</td>\n",
       "      <td>0.980984</td>\n",
       "    </tr>\n",
       "    <tr>\n",
       "      <th>29859</th>\n",
       "      <td>2988</td>\n",
       "      <td>2917</td>\n",
       "      <td>0.976238</td>\n",
       "    </tr>\n",
       "    <tr>\n",
       "      <th>37114</th>\n",
       "      <td>2800</td>\n",
       "      <td>2800</td>\n",
       "      <td>1.000000</td>\n",
       "    </tr>\n",
       "  </tbody>\n",
       "</table>\n",
       "</div>"
      ],
      "text/plain": [
       "                   images  empty  frac_empty\n",
       "video_id sequence                           \n",
       "0        996          923    714    0.773564\n",
       "         8399        1423    859    0.603654\n",
       "         35305        853    773    0.906213\n",
       "         40258        480    195    0.406250\n",
       "         45015        617    595    0.964344\n",
       "         45518        798    675    0.845865\n",
       "         53708       1077    373    0.346332\n",
       "         59337        537    381    0.709497\n",
       "1        8503        2843   1743    0.613085\n",
       "         15827        770    696    0.903896\n",
       "         17665         87      0    0.000000\n",
       "         18048         71      0    0.000000\n",
       "         29424        184    184    1.000000\n",
       "         44160        151    151    1.000000\n",
       "         60510       1167   1054    0.903171\n",
       "         60754       2959   2305    0.778979\n",
       "2        22643       1248    671    0.537660\n",
       "         26651       1525   1496    0.980984\n",
       "         29859       2988   2917    0.976238\n",
       "         37114       2800   2800    1.000000"
      ]
     },
     "execution_count": 44,
     "metadata": {},
     "output_type": "execute_result"
    }
   ],
   "source": [
    "dfg = df.groupby(['video_id','sequence']).agg({'sequence': 'count', 'num_annotations': count_negatives}).sort_index()\n",
    "dfg = dfg.rename(columns={'sequence': 'images', 'num_annotations': 'empty'})\n",
    "dfg['frac_empty'] = dfg['empty'] / dfg['images']\n",
    "dfg.sort_index()"
   ]
  },
  {
   "cell_type": "markdown",
   "id": "4e209b35",
   "metadata": {},
   "source": [
    "#### Explore image sizes"
   ]
  },
  {
   "cell_type": "code",
   "execution_count": 32,
   "id": "5188a30b",
   "metadata": {},
   "outputs": [],
   "source": [
    "# img = Image.open(f'{DATA_DIR}/train_images/video_0/0.jpg')"
   ]
  },
  {
   "cell_type": "code",
   "execution_count": 37,
   "id": "02707b65",
   "metadata": {},
   "outputs": [],
   "source": [
    "width, height = [], []\n",
    "\n",
    "for o in df.itertuples():\n",
    "    video_id = o.video_id\n",
    "    video_frame = o.video_frame\n",
    "    \n",
    "    img = Image.open(f'{DATA_DIR}/train_images/video_{video_id}/{video_frame}.jpg')\n",
    "    img_width, img_height = img.size\n",
    "    \n",
    "    width.append(img_width)\n",
    "    height.append(img_height)\n",
    "    \n",
    "    img.close()"
   ]
  },
  {
   "cell_type": "code",
   "execution_count": 38,
   "id": "ccbb081c",
   "metadata": {},
   "outputs": [],
   "source": [
    "df['width'] = width\n",
    "df['height'] = height"
   ]
  },
  {
   "cell_type": "code",
   "execution_count": 39,
   "id": "9857f5d1",
   "metadata": {},
   "outputs": [
    {
     "data": {
      "text/html": [
       "<div>\n",
       "<style scoped>\n",
       "    .dataframe tbody tr th:only-of-type {\n",
       "        vertical-align: middle;\n",
       "    }\n",
       "\n",
       "    .dataframe tbody tr th {\n",
       "        vertical-align: top;\n",
       "    }\n",
       "\n",
       "    .dataframe thead th {\n",
       "        text-align: right;\n",
       "    }\n",
       "</style>\n",
       "<table border=\"1\" class=\"dataframe\">\n",
       "  <thead>\n",
       "    <tr style=\"text-align: right;\">\n",
       "      <th></th>\n",
       "      <th>video_id</th>\n",
       "      <th>sequence</th>\n",
       "      <th>video_frame</th>\n",
       "      <th>sequence_frame</th>\n",
       "      <th>image_id</th>\n",
       "      <th>annotations</th>\n",
       "      <th>num_annotations</th>\n",
       "      <th>width</th>\n",
       "      <th>height</th>\n",
       "    </tr>\n",
       "  </thead>\n",
       "  <tbody>\n",
       "    <tr>\n",
       "      <th>0</th>\n",
       "      <td>0</td>\n",
       "      <td>40258</td>\n",
       "      <td>0</td>\n",
       "      <td>0</td>\n",
       "      <td>0-0</td>\n",
       "      <td>[]</td>\n",
       "      <td>0</td>\n",
       "      <td>1280</td>\n",
       "      <td>720</td>\n",
       "    </tr>\n",
       "    <tr>\n",
       "      <th>1</th>\n",
       "      <td>0</td>\n",
       "      <td>40258</td>\n",
       "      <td>1</td>\n",
       "      <td>1</td>\n",
       "      <td>0-1</td>\n",
       "      <td>[]</td>\n",
       "      <td>0</td>\n",
       "      <td>1280</td>\n",
       "      <td>720</td>\n",
       "    </tr>\n",
       "    <tr>\n",
       "      <th>2</th>\n",
       "      <td>0</td>\n",
       "      <td>40258</td>\n",
       "      <td>2</td>\n",
       "      <td>2</td>\n",
       "      <td>0-2</td>\n",
       "      <td>[]</td>\n",
       "      <td>0</td>\n",
       "      <td>1280</td>\n",
       "      <td>720</td>\n",
       "    </tr>\n",
       "    <tr>\n",
       "      <th>3</th>\n",
       "      <td>0</td>\n",
       "      <td>40258</td>\n",
       "      <td>3</td>\n",
       "      <td>3</td>\n",
       "      <td>0-3</td>\n",
       "      <td>[]</td>\n",
       "      <td>0</td>\n",
       "      <td>1280</td>\n",
       "      <td>720</td>\n",
       "    </tr>\n",
       "    <tr>\n",
       "      <th>4</th>\n",
       "      <td>0</td>\n",
       "      <td>40258</td>\n",
       "      <td>4</td>\n",
       "      <td>4</td>\n",
       "      <td>0-4</td>\n",
       "      <td>[]</td>\n",
       "      <td>0</td>\n",
       "      <td>1280</td>\n",
       "      <td>720</td>\n",
       "    </tr>\n",
       "  </tbody>\n",
       "</table>\n",
       "</div>"
      ],
      "text/plain": [
       "   video_id  sequence  video_frame  sequence_frame image_id annotations  \\\n",
       "0         0     40258            0               0      0-0          []   \n",
       "1         0     40258            1               1      0-1          []   \n",
       "2         0     40258            2               2      0-2          []   \n",
       "3         0     40258            3               3      0-3          []   \n",
       "4         0     40258            4               4      0-4          []   \n",
       "\n",
       "   num_annotations  width  height  \n",
       "0                0   1280     720  \n",
       "1                0   1280     720  \n",
       "2                0   1280     720  \n",
       "3                0   1280     720  \n",
       "4                0   1280     720  "
      ]
     },
     "execution_count": 39,
     "metadata": {},
     "output_type": "execute_result"
    }
   ],
   "source": [
    "df.head()"
   ]
  },
  {
   "cell_type": "code",
   "execution_count": 40,
   "id": "61db9a7a",
   "metadata": {},
   "outputs": [
    {
     "data": {
      "text/plain": [
       "array([1280])"
      ]
     },
     "execution_count": 40,
     "metadata": {},
     "output_type": "execute_result"
    }
   ],
   "source": [
    "df['width'].unique()"
   ]
  },
  {
   "cell_type": "code",
   "execution_count": 41,
   "id": "314ab6c8",
   "metadata": {},
   "outputs": [
    {
     "data": {
      "text/plain": [
       "array([720])"
      ]
     },
     "execution_count": 41,
     "metadata": {},
     "output_type": "execute_result"
    }
   ],
   "source": [
    "df['height'].unique()"
   ]
  },
  {
   "cell_type": "code",
   "execution_count": null,
   "id": "25331fce",
   "metadata": {},
   "outputs": [],
   "source": []
  }
 ],
 "metadata": {
  "kernelspec": {
   "display_name": "Python 3",
   "language": "python",
   "name": "python3"
  },
  "language_info": {
   "codemirror_mode": {
    "name": "ipython",
    "version": 3
   },
   "file_extension": ".py",
   "mimetype": "text/x-python",
   "name": "python",
   "nbconvert_exporter": "python",
   "pygments_lexer": "ipython3",
   "version": "3.8.12"
  }
 },
 "nbformat": 4,
 "nbformat_minor": 5
}
